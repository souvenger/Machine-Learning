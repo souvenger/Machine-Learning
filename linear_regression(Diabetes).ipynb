{
 "cells": [
  {
   "cell_type": "markdown",
   "id": "f1840e2c",
   "metadata": {},
   "source": [
    "# Linear Regression and multiple Regression "
   ]
  },
  {
   "cell_type": "code",
   "execution_count": 29,
   "id": "9020307b",
   "metadata": {},
   "outputs": [],
   "source": [
    "from sklearn import datasets, linear_model\n",
    "from sklearn.model_selection import train_test_split\n",
    "import pandas as pd\n",
    "from sklearn import metrics\n",
    "import numpy as np\n",
    "import matplotlib.pyplot as plt"
   ]
  },
  {
   "cell_type": "code",
   "execution_count": 30,
   "id": "f1bbf76a",
   "metadata": {},
   "outputs": [],
   "source": [
    "diabetes = datasets.load_diabetes()"
   ]
  },
  {
   "cell_type": "code",
   "execution_count": 31,
   "id": "40981908",
   "metadata": {},
   "outputs": [],
   "source": [
    "x=diabetes.data # taking multiple feature\n",
    "#x=diabetes.data[:,np.newaxis,2]  # taking single feature"
   ]
  },
  {
   "cell_type": "code",
   "execution_count": 32,
   "id": "737b6675",
   "metadata": {},
   "outputs": [],
   "source": [
    "y=diabetes.target"
   ]
  },
  {
   "cell_type": "code",
   "execution_count": 33,
   "id": "8c646196",
   "metadata": {},
   "outputs": [],
   "source": [
    "model=linear_model.LinearRegression()"
   ]
  },
  {
   "cell_type": "code",
   "execution_count": 34,
   "id": "5c3f9962",
   "metadata": {},
   "outputs": [],
   "source": [
    "x_train,x_test,y_train,y_test=train_test_split(x,y,test_size=0.2,random_state=42)"
   ]
  },
  {
   "cell_type": "code",
   "execution_count": 35,
   "id": "436fa5c0",
   "metadata": {},
   "outputs": [
    {
     "data": {
      "text/plain": [
       "LinearRegression()"
      ]
     },
     "execution_count": 35,
     "metadata": {},
     "output_type": "execute_result"
    }
   ],
   "source": [
    "model.fit(x_train,y_train)"
   ]
  },
  {
   "cell_type": "code",
   "execution_count": 36,
   "id": "7a32c025",
   "metadata": {},
   "outputs": [],
   "source": [
    "predicted_value=model.predict(x_test) # predictions"
   ]
  },
  {
   "cell_type": "code",
   "execution_count": 37,
   "id": "7f637bf3",
   "metadata": {},
   "outputs": [],
   "source": [
    "error=metrics.mean_squared_error(y_test,predicted_value)"
   ]
  },
  {
   "cell_type": "code",
   "execution_count": 38,
   "id": "1436433a",
   "metadata": {},
   "outputs": [],
   "source": [
    "coefficients=model.coef_   #a1,a2,a3,a4......."
   ]
  },
  {
   "cell_type": "code",
   "execution_count": 39,
   "id": "738ccb41",
   "metadata": {},
   "outputs": [],
   "source": [
    "intercept=model.intercept_  #a0"
   ]
  },
  {
   "cell_type": "code",
   "execution_count": 40,
   "id": "36ecc0a4",
   "metadata": {},
   "outputs": [],
   "source": [
    "#if linear regression then plot can be made\n",
    "\n",
    "# plt.scatter(x_test,y_test)\n",
    "# plt.plot(x_test,predicted_value)\n",
    "# plt.show()"
   ]
  },
  {
   "cell_type": "code",
   "execution_count": null,
   "id": "54b9b3a8",
   "metadata": {},
   "outputs": [],
   "source": []
  },
  {
   "cell_type": "code",
   "execution_count": null,
   "id": "fb886289",
   "metadata": {},
   "outputs": [],
   "source": []
  },
  {
   "cell_type": "code",
   "execution_count": null,
   "id": "76f25d9e",
   "metadata": {},
   "outputs": [],
   "source": []
  }
 ],
 "metadata": {
  "kernelspec": {
   "display_name": "Python 3",
   "language": "python",
   "name": "python3"
  },
  "language_info": {
   "codemirror_mode": {
    "name": "ipython",
    "version": 3
   },
   "file_extension": ".py",
   "mimetype": "text/x-python",
   "name": "python",
   "nbconvert_exporter": "python",
   "pygments_lexer": "ipython3",
   "version": "3.9.2"
  }
 },
 "nbformat": 4,
 "nbformat_minor": 5
}
