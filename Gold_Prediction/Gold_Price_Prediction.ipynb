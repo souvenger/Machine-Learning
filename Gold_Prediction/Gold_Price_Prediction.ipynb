{
  "cells": [
    {
      "cell_type": "code",
      "execution_count": null,
      "metadata": {
        "id": "fwddHW8i9L-M"
      },
      "outputs": [],
      "source": []
    },
    {
      "cell_type": "code",
      "execution_count": 1,
      "metadata": {
        "colab": {
          "base_uri": "https://localhost:8080/"
        },
        "id": "hPshR2Bb1JP5",
        "outputId": "06a5603c-72b5-40ab-fda5-330bd617ead4"
      },
      "outputs": [
        {
          "name": "stdout",
          "output_type": "stream",
          "text": [
            "Mounted at /content/drive\n",
            "Drive already mounted at /content/drive; to attempt to forcibly remount, call drive.mount(\"/content/drive\", force_remount=True).\n"
          ]
        }
      ],
      "source": [
        "from google.colab import drive\n",
        "drive.mount('/content/drive')"
      ]
    },
    {
      "cell_type": "code",
      "execution_count": 1,
      "metadata": {
        "id": "ihL409Nk1d3P"
      },
      "outputs": [],
      "source": [
        "import numpy as np\n",
        "import pandas as pd\n",
        "import matplotlib.pyplot as plt\n",
        "import seaborn as sns\n",
        "from sklearn.model_selection import train_test_split\n",
        "from sklearn.ensemble import RandomForestRegressor\n",
        "from sklearn import metrics"
      ]
    },
    {
      "cell_type": "code",
      "execution_count": 3,
      "metadata": {
        "id": "V9G4aceO2abF"
      },
      "outputs": [],
      "source": [
        "data=pd.read_csv(\"gld_price_data.csv\")"
      ]
    },
    {
      "cell_type": "code",
      "execution_count": 4,
      "metadata": {
        "colab": {
          "base_uri": "https://localhost:8080/",
          "height": 206
        },
        "id": "FOCOxbLR2jPg",
        "outputId": "eab9b5ad-8be5-43c2-a1cc-c9b463ab5795"
      },
      "outputs": [
        {
          "data": {
            "text/html": [
              "<div>\n",
              "<style scoped>\n",
              "    .dataframe tbody tr th:only-of-type {\n",
              "        vertical-align: middle;\n",
              "    }\n",
              "\n",
              "    .dataframe tbody tr th {\n",
              "        vertical-align: top;\n",
              "    }\n",
              "\n",
              "    .dataframe thead th {\n",
              "        text-align: right;\n",
              "    }\n",
              "</style>\n",
              "<table border=\"1\" class=\"dataframe\">\n",
              "  <thead>\n",
              "    <tr style=\"text-align: right;\">\n",
              "      <th></th>\n",
              "      <th>Date</th>\n",
              "      <th>SPX</th>\n",
              "      <th>GLD</th>\n",
              "      <th>USO</th>\n",
              "      <th>SLV</th>\n",
              "      <th>EUR/USD</th>\n",
              "    </tr>\n",
              "  </thead>\n",
              "  <tbody>\n",
              "    <tr>\n",
              "      <th>0</th>\n",
              "      <td>1/2/2008</td>\n",
              "      <td>1447.160034</td>\n",
              "      <td>84.860001</td>\n",
              "      <td>78.470001</td>\n",
              "      <td>15.180</td>\n",
              "      <td>1.471692</td>\n",
              "    </tr>\n",
              "    <tr>\n",
              "      <th>1</th>\n",
              "      <td>1/3/2008</td>\n",
              "      <td>1447.160034</td>\n",
              "      <td>85.570000</td>\n",
              "      <td>78.370003</td>\n",
              "      <td>15.285</td>\n",
              "      <td>1.474491</td>\n",
              "    </tr>\n",
              "    <tr>\n",
              "      <th>2</th>\n",
              "      <td>1/4/2008</td>\n",
              "      <td>1411.630005</td>\n",
              "      <td>85.129997</td>\n",
              "      <td>77.309998</td>\n",
              "      <td>15.167</td>\n",
              "      <td>1.475492</td>\n",
              "    </tr>\n",
              "    <tr>\n",
              "      <th>3</th>\n",
              "      <td>1/7/2008</td>\n",
              "      <td>1416.180054</td>\n",
              "      <td>84.769997</td>\n",
              "      <td>75.500000</td>\n",
              "      <td>15.053</td>\n",
              "      <td>1.468299</td>\n",
              "    </tr>\n",
              "    <tr>\n",
              "      <th>4</th>\n",
              "      <td>1/8/2008</td>\n",
              "      <td>1390.189941</td>\n",
              "      <td>86.779999</td>\n",
              "      <td>76.059998</td>\n",
              "      <td>15.590</td>\n",
              "      <td>1.557099</td>\n",
              "    </tr>\n",
              "  </tbody>\n",
              "</table>\n",
              "</div>"
            ],
            "text/plain": [
              "       Date          SPX        GLD        USO     SLV   EUR/USD\n",
              "0  1/2/2008  1447.160034  84.860001  78.470001  15.180  1.471692\n",
              "1  1/3/2008  1447.160034  85.570000  78.370003  15.285  1.474491\n",
              "2  1/4/2008  1411.630005  85.129997  77.309998  15.167  1.475492\n",
              "3  1/7/2008  1416.180054  84.769997  75.500000  15.053  1.468299\n",
              "4  1/8/2008  1390.189941  86.779999  76.059998  15.590  1.557099"
            ]
          },
          "execution_count": 4,
          "metadata": {},
          "output_type": "execute_result"
        }
      ],
      "source": [
        "data.head()"
      ]
    },
    {
      "cell_type": "code",
      "execution_count": 5,
      "metadata": {
        "id": "ztI0gSU62n9H"
      },
      "outputs": [
        {
          "data": {
            "text/plain": [
              "(2290, 6)"
            ]
          },
          "execution_count": 5,
          "metadata": {},
          "output_type": "execute_result"
        }
      ],
      "source": [
        "data.shape"
      ]
    },
    {
      "cell_type": "code",
      "execution_count": 6,
      "metadata": {
        "id": "S8bMm7O522X0"
      },
      "outputs": [
        {
          "name": "stdout",
          "output_type": "stream",
          "text": [
            "<class 'pandas.core.frame.DataFrame'>\n",
            "RangeIndex: 2290 entries, 0 to 2289\n",
            "Data columns (total 6 columns):\n",
            " #   Column   Non-Null Count  Dtype  \n",
            "---  ------   --------------  -----  \n",
            " 0   Date     2290 non-null   object \n",
            " 1   SPX      2290 non-null   float64\n",
            " 2   GLD      2290 non-null   float64\n",
            " 3   USO      2290 non-null   float64\n",
            " 4   SLV      2290 non-null   float64\n",
            " 5   EUR/USD  2290 non-null   float64\n",
            "dtypes: float64(5), object(1)\n",
            "memory usage: 107.5+ KB\n"
          ]
        }
      ],
      "source": [
        "data.info()"
      ]
    },
    {
      "cell_type": "code",
      "execution_count": 7,
      "metadata": {
        "id": "YJ037Q-T3e4O"
      },
      "outputs": [
        {
          "data": {
            "text/plain": [
              "Date       0\n",
              "SPX        0\n",
              "GLD        0\n",
              "USO        0\n",
              "SLV        0\n",
              "EUR/USD    0\n",
              "dtype: int64"
            ]
          },
          "execution_count": 7,
          "metadata": {},
          "output_type": "execute_result"
        }
      ],
      "source": [
        "#Checking missing values\n",
        "data.isnull().sum()"
      ]
    },
    {
      "cell_type": "code",
      "execution_count": 8,
      "metadata": {
        "id": "EDUi4IF73nfF"
      },
      "outputs": [
        {
          "data": {
            "text/html": [
              "<div>\n",
              "<style scoped>\n",
              "    .dataframe tbody tr th:only-of-type {\n",
              "        vertical-align: middle;\n",
              "    }\n",
              "\n",
              "    .dataframe tbody tr th {\n",
              "        vertical-align: top;\n",
              "    }\n",
              "\n",
              "    .dataframe thead th {\n",
              "        text-align: right;\n",
              "    }\n",
              "</style>\n",
              "<table border=\"1\" class=\"dataframe\">\n",
              "  <thead>\n",
              "    <tr style=\"text-align: right;\">\n",
              "      <th></th>\n",
              "      <th>SPX</th>\n",
              "      <th>GLD</th>\n",
              "      <th>USO</th>\n",
              "      <th>SLV</th>\n",
              "      <th>EUR/USD</th>\n",
              "    </tr>\n",
              "  </thead>\n",
              "  <tbody>\n",
              "    <tr>\n",
              "      <th>count</th>\n",
              "      <td>2290.000000</td>\n",
              "      <td>2290.000000</td>\n",
              "      <td>2290.000000</td>\n",
              "      <td>2290.000000</td>\n",
              "      <td>2290.000000</td>\n",
              "    </tr>\n",
              "    <tr>\n",
              "      <th>mean</th>\n",
              "      <td>1654.315776</td>\n",
              "      <td>122.732875</td>\n",
              "      <td>31.842221</td>\n",
              "      <td>20.084997</td>\n",
              "      <td>1.283653</td>\n",
              "    </tr>\n",
              "    <tr>\n",
              "      <th>std</th>\n",
              "      <td>519.111540</td>\n",
              "      <td>23.283346</td>\n",
              "      <td>19.523517</td>\n",
              "      <td>7.092566</td>\n",
              "      <td>0.131547</td>\n",
              "    </tr>\n",
              "    <tr>\n",
              "      <th>min</th>\n",
              "      <td>676.530029</td>\n",
              "      <td>70.000000</td>\n",
              "      <td>7.960000</td>\n",
              "      <td>8.850000</td>\n",
              "      <td>1.039047</td>\n",
              "    </tr>\n",
              "    <tr>\n",
              "      <th>25%</th>\n",
              "      <td>1239.874969</td>\n",
              "      <td>109.725000</td>\n",
              "      <td>14.380000</td>\n",
              "      <td>15.570000</td>\n",
              "      <td>1.171313</td>\n",
              "    </tr>\n",
              "    <tr>\n",
              "      <th>50%</th>\n",
              "      <td>1551.434998</td>\n",
              "      <td>120.580002</td>\n",
              "      <td>33.869999</td>\n",
              "      <td>17.268500</td>\n",
              "      <td>1.303297</td>\n",
              "    </tr>\n",
              "    <tr>\n",
              "      <th>75%</th>\n",
              "      <td>2073.010070</td>\n",
              "      <td>132.840004</td>\n",
              "      <td>37.827501</td>\n",
              "      <td>22.882500</td>\n",
              "      <td>1.369971</td>\n",
              "    </tr>\n",
              "    <tr>\n",
              "      <th>max</th>\n",
              "      <td>2872.870117</td>\n",
              "      <td>184.589996</td>\n",
              "      <td>117.480003</td>\n",
              "      <td>47.259998</td>\n",
              "      <td>1.598798</td>\n",
              "    </tr>\n",
              "  </tbody>\n",
              "</table>\n",
              "</div>"
            ],
            "text/plain": [
              "               SPX          GLD          USO          SLV      EUR/USD\n",
              "count  2290.000000  2290.000000  2290.000000  2290.000000  2290.000000\n",
              "mean   1654.315776   122.732875    31.842221    20.084997     1.283653\n",
              "std     519.111540    23.283346    19.523517     7.092566     0.131547\n",
              "min     676.530029    70.000000     7.960000     8.850000     1.039047\n",
              "25%    1239.874969   109.725000    14.380000    15.570000     1.171313\n",
              "50%    1551.434998   120.580002    33.869999    17.268500     1.303297\n",
              "75%    2073.010070   132.840004    37.827501    22.882500     1.369971\n",
              "max    2872.870117   184.589996   117.480003    47.259998     1.598798"
            ]
          },
          "execution_count": 8,
          "metadata": {},
          "output_type": "execute_result"
        }
      ],
      "source": [
        "#Checking the central tendencies mean median etc\n",
        "data.describe()"
      ]
    },
    {
      "cell_type": "code",
      "execution_count": 9,
      "metadata": {
        "id": "dYXpYPkj4JXS"
      },
      "outputs": [],
      "source": [
        "#correlation is very important in any regression project\n",
        "correlation=data.corr()"
      ]
    },
    {
      "cell_type": "code",
      "execution_count": 10,
      "metadata": {
        "id": "TThHeXw234CY"
      },
      "outputs": [
        {
          "data": {
            "text/plain": [
              "<AxesSubplot:>"
            ]
          },
          "execution_count": 10,
          "metadata": {},
          "output_type": "execute_result"
        },
        {
          "data": {
            "image/png": "[encoded data removed]",
            "text/plain": [
              "<Figure size 432x288 with 2 Axes>"
            ]
          },
          "metadata": {
            "needs_background": "light"
          },
          "output_type": "display_data"
        }
      ],
      "source": [
        "#Contructing heatmap to understand correlation\n",
        "sns.heatmap(correlation,cmap='Blues',cbar=True, square=True,)"
      ]
    },
    {
      "cell_type": "code",
      "execution_count": 11,
      "metadata": {
        "id": "rzx2lz8q5Th3"
      },
      "outputs": [
        {
          "name": "stdout",
          "output_type": "stream",
          "text": [
            "SPX        0.049345\n",
            "GLD        1.000000\n",
            "USO       -0.186360\n",
            "SLV        0.866632\n",
            "EUR/USD   -0.024375\n",
            "Name: GLD, dtype: float64\n"
          ]
        }
      ],
      "source": [
        "#print correlation of gold\n",
        "print(correlation['GLD'])"
      ]
    },
    {
      "cell_type": "code",
      "execution_count": 13,
      "metadata": {
        "id": "2oMG_5tI6yp6"
      },
      "outputs": [
        {
          "name": "stderr",
          "output_type": "stream",
          "text": [
            "C:\\Users\\SOURAV\\AppData\\Local\\Programs\\Python\\Python39\\lib\\site-packages\\seaborn\\distributions.py:2557: FutureWarning: `distplot` is a deprecated function and will be removed in a future version. Please adapt your code to use either `displot` (a figure-level function with similar flexibility) or `histplot` (an axes-level function for histograms).\n",
            "  warnings.warn(msg, FutureWarning)\n"
          ]
        },
        {
          "data": {
            "text/plain": [
              "<AxesSubplot:xlabel='GLD', ylabel='Density'>"
            ]
          },
          "execution_count": 13,
          "metadata": {},
          "output_type": "execute_result"
        },
        {
          "data": {
            "image/png": "[encoded data removed]",
            "text/plain": [
              "<Figure size 432x288 with 1 Axes>"
            ]
          },
          "metadata": {
            "needs_background": "light"
          },
          "output_type": "display_data"
        }
      ],
      "source": [
        "#checking distribution of gold\n",
        "sns.distplot(data['GLD'],color='green')"
      ]
    },
    {
      "cell_type": "code",
      "execution_count": 15,
      "metadata": {
        "id": "pbQxhoJs7GpE"
      },
      "outputs": [],
      "source": [
        "X = data.drop(['Date','GLD'],axis=1)\n",
        "Y = data['GLD']"
      ]
    },
    {
      "cell_type": "code",
      "execution_count": 23,
      "metadata": {
        "id": "vuJDZpUg-QP3"
      },
      "outputs": [],
      "source": [
        "#Y=a(x1+x2+x3......)\n",
        "X_train, X_test, Y_train, Y_test = train_test_split(X, Y, test_size = 0.2, random_state=42)"
      ]
    },
    {
      "cell_type": "code",
      "execution_count": 25,
      "metadata": {
        "id": "uKRwPdxz_Xqc"
      },
      "outputs": [
        {
          "data": {
            "application/javascript": "\n        if (window._pyforest_update_imports_cell) { window._pyforest_update_imports_cell('from sklearn.linear_model import LinearRegression\\nimport sklearn'); }\n    ",
            "text/plain": [
              "<IPython.core.display.Javascript object>"
            ]
          },
          "metadata": {},
          "output_type": "display_data"
        },
        {
          "data": {
            "text/plain": [
              "LinearRegression()"
            ]
          },
          "execution_count": 25,
          "metadata": {},
          "output_type": "execute_result"
        }
      ],
      "source": [
        "model1=RandomForestRegressor(n_estimators=120)\n",
        "model2=sklearn.linear_model.LinearRegression()\n",
        "#train model\n",
        "\n",
        "model1.fit(X_train,Y_train)\n",
        "model2.fit(X_train,Y_train)"
      ]
    },
    {
      "cell_type": "code",
      "execution_count": 26,
      "metadata": {
        "id": "zVVhO_rUiTcr"
      },
      "outputs": [
        {
          "data": {
            "text/plain": [
              "array([122.51325689, 127.0907545 , 125.50313349, 104.54764991,\n",
              "       124.90068634, 116.586858  , 123.04583828, 125.14446632,\n",
              "       112.05259024, 104.88193814, 101.00127079, 157.04211875,\n",
              "       137.50447931, 110.49031012, 160.83929478,  88.48009266,\n",
              "       117.77776928, 118.96072884, 121.53807068, 128.1487556 ,\n",
              "       118.02290942, 116.08975575, 109.6315024 , 103.05777279,\n",
              "       111.84096218, 120.86033322, 119.62399827, 112.20020453,\n",
              "       109.19479998, 119.62171119, 196.11502374,  99.10085802,\n",
              "       157.19764615, 122.07046494, 113.39777112, 123.34726222,\n",
              "       132.36268845, 152.08038513, 176.64473496, 145.03588282,\n",
              "       124.05185863, 121.33549213, 122.74098458, 115.57613444,\n",
              "       122.35927588, 112.09083408,  93.45476082, 116.93571065,\n",
              "       126.42056988, 118.08975012, 105.4726357 , 126.56933728,\n",
              "       105.64602965, 151.78330086, 137.80329213, 117.39236458,\n",
              "       159.54433502, 126.41884417, 100.17367568, 122.74815137,\n",
              "       109.79583313,  86.2818531 , 113.37269965, 120.30638659,\n",
              "        88.36184756, 122.81103534, 119.41725002, 111.29315614,\n",
              "       153.0445584 ,  96.20637023,  84.31722327, 149.65055559,\n",
              "       147.3327689 , 105.44296836, 144.71870893, 106.92295995,\n",
              "       119.87249277, 122.93393893, 115.01857301, 112.69369126,\n",
              "       129.91178694, 114.53567864,  98.54139796,  98.02750568,\n",
              "       108.32447375, 114.94636714, 103.51185231, 108.60054619,\n",
              "       159.15373651, 151.46813704, 103.58255406, 125.91008115,\n",
              "       111.42592386, 109.48536551, 122.65078699, 105.83328848,\n",
              "       153.10146226,  81.21864937, 127.0054296 , 108.72288521,\n",
              "       156.93789277, 108.93634056, 117.13851764, 105.91996373,\n",
              "       145.16128979,  90.03325028,  89.17695297, 179.77968183,\n",
              "       119.63219626, 111.72915029, 122.72870139, 163.09711924,\n",
              "       137.54946942, 126.12892263, 149.23231005, 113.81695843,\n",
              "       121.30542135, 106.80491957, 119.18680566, 120.92504164,\n",
              "       131.23744132, 116.74173559,  93.75669055, 114.54064649,\n",
              "       144.2262939 , 112.44420654, 117.16770097,  96.79047371,\n",
              "       110.99819105, 114.92062409, 106.1364461 , 155.61618749,\n",
              "        87.37174272, 121.91045715,  81.22500987, 114.76322811,\n",
              "       100.34515942, 119.26857118,  82.67526507, 117.92908988,\n",
              "       112.60526013, 106.98557605,  95.44156974, 140.63919601,\n",
              "       144.91934973, 179.81999423, 118.15544964, 119.20418792,\n",
              "       118.87016288,  95.98409756, 164.19204561, 111.70368605,\n",
              "       114.64984557, 136.97043618, 127.07000455, 122.11602235,\n",
              "       117.74198566, 111.66054501, 121.94510128,  93.8651258 ,\n",
              "       106.0737137 , 118.11459409, 181.50752368, 123.87888665,\n",
              "       117.74470328, 144.00540417, 116.3188271 ,  93.23453977,\n",
              "       110.96024843, 117.28294565, 116.44904686, 115.25214349,\n",
              "       103.81973005, 106.02140281, 113.68273878, 123.5453599 ,\n",
              "       143.0845592 , 111.66550714, 121.6213959 , 164.31714463,\n",
              "        94.81531056, 115.1927643 , 124.90605405, 122.09155509,\n",
              "       104.27676324, 120.23732564, 129.35061394, 124.19419395,\n",
              "       166.33259986, 115.49784802,  97.22481333, 117.05518308,\n",
              "       123.16010135, 118.53783657, 122.20523967,  94.66240206,\n",
              "       119.75456425,  96.30139248, 112.34087246, 118.99587063,\n",
              "       122.67497824, 123.7873014 , 117.45251057, 119.0887711 ,\n",
              "       123.89500215, 111.27641521, 154.2521629 , 121.15532592,\n",
              "       119.30749905, 110.53599514, 121.8544917 , 119.08690726,\n",
              "       101.71911984, 118.36912327, 121.47658473, 162.68539187,\n",
              "        89.46424347, 139.48710905, 123.35546766,  81.69920121,\n",
              "       120.25360629,  92.27079368, 153.69216023,  89.38588368,\n",
              "       147.26489721, 112.26996739, 111.65660342, 111.07879652,\n",
              "       120.41520267, 155.86555219, 122.52944123, 142.90129837,\n",
              "       103.32080784, 109.83059086, 130.60345157, 190.87765995,\n",
              "       126.37823519, 111.76475986, 120.81242636, 150.99760767,\n",
              "       120.58715785, 123.34348267, 124.38372906, 113.89428451,\n",
              "       175.679565  , 131.89814985, 122.22753278, 180.99304592,\n",
              "       115.76693649, 118.93265077, 112.01302166, 149.8003349 ,\n",
              "       112.46005862, 121.23960778, 119.0190104 , 120.70684734,\n",
              "       116.73742805,  97.24431634, 104.55142323, 127.64747238,\n",
              "       126.04854396, 158.26549648, 105.56474993,  91.02153826,\n",
              "        94.78408462, 146.13892135, 158.44930797, 140.45102212,\n",
              "        80.45870291, 112.53673874, 116.07095261, 150.62493286,\n",
              "       127.22382351, 115.08546769, 122.00687162, 152.29148764,\n",
              "       122.10112   , 120.69206768, 116.93610956, 148.93279748,\n",
              "       112.84313872,  94.14531207,  79.70488891,  98.61761031,\n",
              "       117.11252669, 121.91242539, 118.57387263, 122.80743221,\n",
              "        82.52607836,  95.90361797, 140.35190691, 112.67418057,\n",
              "       127.67459196, 121.89224551, 109.19454633,  81.67979552,\n",
              "       110.70338736,  95.85931355, 111.73741784, 152.77218044,\n",
              "       122.19374988, 113.32941281, 121.87357089, 110.39183818,\n",
              "       129.10752133,  83.85803082, 155.19740202, 136.43832955,\n",
              "       156.49514332, 124.49359972,  97.3297167 , 105.52629394,\n",
              "       122.1172574 , 130.67242053, 126.5572266 ,  95.36070229,\n",
              "       134.6942144 , 153.47533568,  80.12521938, 114.12288602,\n",
              "       106.98299591, 116.26094853, 120.31865934, 109.97469715,\n",
              "       118.77547092, 111.54001657, 123.14310797, 125.3992898 ,\n",
              "       107.50095592, 157.13739418, 168.7138855 , 109.12754023,\n",
              "       161.02590312, 109.47615751, 152.7623049 , 122.02895148,\n",
              "       157.58116197, 139.25523713, 106.47833675, 158.26617953,\n",
              "       119.12414951,  81.28429944, 115.22337114,  92.32509568,\n",
              "        94.31073481, 112.78051436, 126.0759017 , 122.20534585,\n",
              "       158.86943782, 120.07234831,  92.56873772, 139.25721297,\n",
              "       116.65321875, 104.55342968, 162.3822574 , 122.61613086,\n",
              "       126.44463982, 115.89991634, 139.19553779, 123.47032933,\n",
              "       174.10077133, 121.87975884, 120.33159791, 124.00222196,\n",
              "       156.83639239,  77.85036022, 155.58490381, 159.97410035,\n",
              "       116.936463  , 110.75892693, 123.19196993, 142.6355607 ,\n",
              "       162.8469849 , 142.84897551, 124.71428391, 120.36165914,\n",
              "       162.86183626,  93.55233321, 123.38402696, 119.83827513,\n",
              "       150.87620441, 145.41622111, 154.77447922, 116.98643814,\n",
              "        93.43785799, 127.90036537, 103.90627535, 122.95606825,\n",
              "       123.2152283 , 105.71955569,  97.40014466, 145.50835617,\n",
              "       100.27834571,  87.31867487, 117.80966769,  92.58204454,\n",
              "        96.65124069, 115.39405056, 143.92197572, 161.60199703,\n",
              "       111.47631022, 158.09483693, 114.41357595, 130.56793736,\n",
              "        91.19238343, 118.95454135,  83.40854416, 116.00966456,\n",
              "       155.37839748, 143.77361795, 141.01919331, 152.53620774,\n",
              "        96.78667524, 118.02111391,  96.84232664, 121.78037354,\n",
              "       118.07696145, 120.60506344, 116.61539754, 121.24481321,\n",
              "       104.56816667, 160.07040611, 157.40677574, 118.55011052,\n",
              "       159.31184763,  89.28920017, 158.4976012 , 127.03049802,\n",
              "       122.3553243 ,  96.78023515, 117.60486742,  87.6788779 ,\n",
              "       118.90412426, 109.3723111 , 118.97709362, 145.9480029 ,\n",
              "       148.40954226, 119.27213656, 114.06487922, 118.06301257,\n",
              "       114.46169379, 121.37832067, 122.30355013, 147.12830151,\n",
              "       161.35692762, 160.17636413, 102.82012303, 151.8505014 ,\n",
              "        95.98935898, 141.25223719, 123.41521232,  87.55174804,\n",
              "       113.64988924, 122.07413592, 161.75342541,  97.9982262 ,\n",
              "       101.34886277, 145.86292437])"
            ]
          },
          "execution_count": 26,
          "metadata": {},
          "output_type": "execute_result"
        }
      ],
      "source": [
        "test_prediction1=model1.predict(X_test)\n",
        "test_prediction1\n",
        "test_prediction2=model2.predict(X_test)\n",
        "test_prediction2\n",
        "\n"
      ]
    },
    {
      "cell_type": "code",
      "execution_count": 27,
      "metadata": {
        "id": "wDkRSyIsjDdX"
      },
      "outputs": [
        {
          "data": {
            "text/plain": [
              "0.8975640982991402"
            ]
          },
          "execution_count": 27,
          "metadata": {},
          "output_type": "execute_result"
        }
      ],
      "source": [
        "#error  finding\n",
        "err_score1=metrics.r2_score(Y_test,test_prediction1)\n",
        "err_score2=metrics.r2_score(Y_test,test_prediction2)\n",
        "err_score2"
      ]
    },
    {
      "cell_type": "code",
      "execution_count": 28,
      "metadata": {
        "id": "TiFt7ePtjq_z"
      },
      "outputs": [
        {
          "data": {
            "image/png": "[encoded data removed]",
            "text/plain": [
              "<Figure size 432x288 with 1 Axes>"
            ]
          },
          "metadata": {
            "needs_background": "light"
          },
          "output_type": "display_data"
        }
      ],
      "source": [
        "#plot variance\n",
        "Y_test=list(Y_test)\n",
        "plt.plot(Y_test, color='red', label = 'Actual Value')\n",
        "plt.plot(test_prediction2, color='yellow', label='Predicted Value')\n",
        "plt.title('Actual Price vs Predicted Price')\n",
        "plt.xlabel('Number of values')\n",
        "plt.ylabel('GLD Price')\n",
        "plt.legend()\n",
        "plt.show()"
      ]
    },
    {
      "cell_type": "code",
      "execution_count": null,
      "metadata": {},
      "outputs": [],
      "source": []
    }
  ],
  "metadata": {
    "colab": {
      "name": "Image_recognition.ipynb",
      "provenance": []
    },
    "kernelspec": {
      "display_name": "Python 3",
      "name": "python3"
    },
    "language_info": {
      "codemirror_mode": {
        "name": "ipython",
        "version": 3
      },
      "file_extension": ".py",
      "mimetype": "text/x-python",
      "name": "python",
      "nbconvert_exporter": "python",
      "pygments_lexer": "ipython3",
      "version": "3.9.2"
    }
  },
  "nbformat": 4,
  "nbformat_minor": 0
}
