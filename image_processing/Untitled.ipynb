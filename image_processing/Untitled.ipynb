{
 "cells": [
  {
   "cell_type": "code",
   "execution_count": 9,
   "id": "1aa95db3",
   "metadata": {},
   "outputs": [],
   "source": [
    "import cv2\n",
    "img=cv2.imread('road.jpg')\n",
    "w,h=img.shape[:2][0],img.shape[:2][0]"
   ]
  },
  {
   "cell_type": "code",
   "execution_count": 15,
   "id": "a2a6544b",
   "metadata": {},
   "outputs": [],
   "source": [
    "img=cv2.imread('road.jpg')\n",
    "\n",
    "w,h=img.shape[:2]\n",
    "# Python code to read image\n",
    "# Creating GUI window to display an image on screen\n",
    "# first Parameter is windows title (should be in string format)\n",
    "# Second Parameter is image array\n",
    "cv2.imshow(\"Cute Kitens\", img)\n",
    "\n",
    "# To hold the window on screen, we use cv2.waitKey method\n",
    "# Once it detected the close input, it will release the control\n",
    "# To the next line\n",
    "# First Parameter is for holding screen for specified milliseconds\n",
    "# It should be positive integer. If 0 pass an parameter, then it will\n",
    "# hold the screen until user close it.\n",
    "cv2.waitKey(0)\n",
    "\n",
    "# It is for removing/deleting created GUI window from screen\n",
    "# and memory\n",
    "cv2.destroyAllWindows()\n"
   ]
  },
  {
   "cell_type": "code",
   "execution_count": 2,
   "id": "f94996c3",
   "metadata": {},
   "outputs": [
    {
     "data": {
      "text/plain": [
       "(145, 91, 80)"
      ]
     },
     "execution_count": 2,
     "metadata": {},
     "output_type": "execute_result"
    }
   ],
   "source": [
    "b,g,r=img[11,10]\n",
    "b,g,r"
   ]
  },
  {
   "cell_type": "code",
   "execution_count": 3,
   "id": "c8696299",
   "metadata": {},
   "outputs": [
    {
     "data": {
      "text/plain": [
       "array([[[151,  97,  86],\n",
       "        [148,  94,  83],\n",
       "        [149,  95,  84],\n",
       "        ...,\n",
       "        [151, 107, 114],\n",
       "        [152, 107, 116],\n",
       "        [150, 107, 116]],\n",
       "\n",
       "       [[148,  94,  83],\n",
       "        [147,  93,  82],\n",
       "        [147,  93,  82],\n",
       "        ...,\n",
       "        [147, 103, 110],\n",
       "        [148, 103, 112],\n",
       "        [146, 103, 112]],\n",
       "\n",
       "       [[146,  92,  81],\n",
       "        [145,  91,  80],\n",
       "        [146,  92,  81],\n",
       "        ...,\n",
       "        [145, 101, 108],\n",
       "        [145, 100, 109],\n",
       "        [143, 100, 109]],\n",
       "\n",
       "       ...,\n",
       "\n",
       "       [[145,  95,  89],\n",
       "        [149,  98,  95],\n",
       "        [149,  98,  95],\n",
       "        ...,\n",
       "        [138,  89,  91],\n",
       "        [138,  88,  92],\n",
       "        [138,  88,  92]],\n",
       "\n",
       "       [[141,  92,  84],\n",
       "        [145,  95,  89],\n",
       "        [145,  95,  89],\n",
       "        ...,\n",
       "        [141,  92,  94],\n",
       "        [141,  91,  95],\n",
       "        [141,  91,  95]],\n",
       "\n",
       "       [[139,  90,  82],\n",
       "        [141,  91,  85],\n",
       "        [141,  91,  85],\n",
       "        ...,\n",
       "        [142,  93,  95],\n",
       "        [142,  92,  96],\n",
       "        [142,  92,  96]]], dtype=uint8)"
      ]
     },
     "execution_count": 3,
     "metadata": {},
     "output_type": "execute_result"
    }
   ],
   "source": [
    "roi=img[2:40,7:80]\n",
    "roi\n",
    "# Using cv2.imshow() method\n",
    "# Displaying the image"
   ]
  },
  {
   "cell_type": "code",
   "execution_count": 10,
   "id": "51371153",
   "metadata": {},
   "outputs": [],
   "source": [
    "#resize\n",
    "img2=cv2.resize(img,(400,400))\n",
    "#maintaining aspect ratio\n",
    "#ratio=w/800\n",
    "#h=h*ratio,w=800"
   ]
  },
  {
   "cell_type": "code",
   "execution_count": 11,
   "id": "e33d3b2d",
   "metadata": {},
   "outputs": [],
   "source": [
    "# Calculating the center of the image\n",
    "center = (w // 2, h // 2)\n",
    "\n",
    "# Generating a rotation matrix\n",
    "matrix = cv2.getRotationMatrix2D(center, -45, 1.0)\n",
    "\n",
    "# Performing the affine transformation\n",
    "rotated = cv2.warpAffine(img, matrix, (w, h))"
   ]
  },
  {
   "cell_type": "code",
   "execution_count": 12,
   "id": "e526889f",
   "metadata": {},
   "outputs": [],
   "source": [
    "# We are copying the original image,\n",
    "# as it is an in-place operation.\n",
    "output = img.copy()\n",
    "\n",
    "# Using the rectangle() function to create a rectangle.\n",
    "rectangle = cv2.rectangle(output, (1500, 900),\n",
    "\t\t\t\t\t\t(600, 400), (255, 0, 0), 2)"
   ]
  },
  {
   "cell_type": "code",
   "execution_count": 14,
   "id": "5ba86f40",
   "metadata": {},
   "outputs": [],
   "source": [
    "# Copying the original image\n",
    "output = img.copy()\n",
    "\n",
    "# Adding the text using putText() function\n",
    "text = cv2.putText(output, 'OpenCV Demo', (500, 550),\n",
    "\t\t\t\tcv2.FONT_HERSHEY_SIMPLEX, 4, (255, 0, 0), 2)\n"
   ]
  },
  {
   "cell_type": "code",
   "execution_count": null,
   "id": "c517d918",
   "metadata": {},
   "outputs": [],
   "source": []
  }
 ],
 "metadata": {
  "kernelspec": {
   "display_name": "Python 3",
   "language": "python",
   "name": "python3"
  },
  "language_info": {
   "codemirror_mode": {
    "name": "ipython",
    "version": 3
   },
   "file_extension": ".py",
   "mimetype": "text/x-python",
   "name": "python",
   "nbconvert_exporter": "python",
   "pygments_lexer": "ipython3",
   "version": "3.9.2"
  }
 },
 "nbformat": 4,
 "nbformat_minor": 5
}
